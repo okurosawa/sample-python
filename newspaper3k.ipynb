{
 "metadata": {
  "language_info": {
   "codemirror_mode": {
    "name": "ipython",
    "version": 3
   },
   "file_extension": ".py",
   "mimetype": "text/x-python",
   "name": "python",
   "nbconvert_exporter": "python",
   "pygments_lexer": "ipython3",
   "version": "3.8.5-final"
  },
  "orig_nbformat": 2,
  "kernelspec": {
   "name": "python3",
   "display_name": "Python 3",
   "language": "python"
  }
 },
 "nbformat": 4,
 "nbformat_minor": 2,
 "cells": [
  {
   "source": [
    "# newspaper3k\n",
    "Webサイトにある記事を取得・解析するときに用いられる。\n",
    "単純なメタデータやテキストだったら関数を使用して簡単に取得できる。\n",
    "\n",
    "## インストール\n",
    "コマンドラインで以下を実行\n",
    "```\n",
    "conda install -c conda-forge newspaper3k\n",
    "```"
   ],
   "cell_type": "markdown",
   "metadata": {}
  },
  {
   "cell_type": "code",
   "execution_count": 2,
   "metadata": {},
   "outputs": [],
   "source": [
    "from newspaper import Article"
   ]
  },
  {
   "cell_type": "code",
   "execution_count": 3,
   "metadata": {},
   "outputs": [],
   "source": [
    "URL = 'https://www.reuters.com/article/us-health-coronavirus-global-cases/global-covid-19-cases-surpass-100-million-as-nations-tackle-vaccine-shortages-idUSKBN29W0B5'"
   ]
  },
  {
   "cell_type": "code",
   "execution_count": 4,
   "metadata": {},
   "outputs": [],
   "source": [
    "article = Article(URL)"
   ]
  },
  {
   "cell_type": "code",
   "execution_count": 5,
   "metadata": {},
   "outputs": [],
   "source": [
    "article.download()"
   ]
  },
  {
   "cell_type": "code",
   "execution_count": 6,
   "metadata": {},
   "outputs": [],
   "source": [
    "article.parse()"
   ]
  },
  {
   "cell_type": "code",
   "execution_count": 7,
   "metadata": {},
   "outputs": [
    {
     "output_type": "execute_result",
     "data": {
      "text/plain": [
       "datetime.datetime(2021, 1, 27, 7, 21, 6, tzinfo=tzutc())"
      ]
     },
     "metadata": {},
     "execution_count": 7
    }
   ],
   "source": [
    "article.publish_date"
   ]
  },
  {
   "cell_type": "code",
   "execution_count": 8,
   "metadata": {},
   "outputs": [
    {
     "output_type": "execute_result",
     "data": {
      "text/plain": [
       "['Shaina Ahluwalia', 'Roshan Abraham']"
      ]
     },
     "metadata": {},
     "execution_count": 8
    }
   ],
   "source": [
    "article.authors"
   ]
  },
  {
   "cell_type": "code",
   "execution_count": 9,
   "metadata": {},
   "outputs": [
    {
     "output_type": "execute_result",
     "data": {
      "text/plain": [
       "'(Reuters) - Global coronavirus cases surpassed 100 million on Wednesday, according to a Reuters tally, as countries around the world struggle with new virus variants and vaccine shortfalls.\\n\\nHealthcare workers tend to a patient at a temporary ward set up during the coronavirus disease (COVID-19) outbreak, at Steve Biko Academic Hospital in Pretoria, South Africa, January 19, 2021. Phill Magakoe/Pool via REUTERS/File Photo\\n\\nAlmost 1.3% of the world’s population has now been infected with COVID-19, the disease caused by the novel coronavirus, and more than 2.1 million people have died.\\n\\nOne person has been infected every 7.7 seconds, on average, since the start of the year. Around 668,250 cases have been reported each day over the same period, and the global fatality rate stands at 2.15%.\\n\\nThe worst-affected countries – the United States, India, Brazil, Russia and the United Kingdom – make up more than half all reported COVID-19 cases but represent 28% of the global population, according to a Reuters analysis.\\n\\nIt took the world 11 months to record the first 50 million cases of the pandemic, compared to just three months for cases to double to 100 million. (Graphic: tmsnrt.rs/34pvUyi)\\n\\nAround 56 countries have begun vaccinating people for the coronavirus, administering at least 64 million doses. Israel leads the world on per capita vaccinations, inoculating 29% of its population with at least one dose.\\n\\nUNITED STATES\\n\\nWith over 25 million cases, the United States has 25% of all reported COVID cases although it accounts for just 4% of the world’s population. The United States leads the world in the daily average number of new deaths reported, accounting for one in every five deaths reported worldwide each day. With just under 425,00 fatalities, the United States has reported almost twice as many deaths as Brazil, which has the second-highest death toll in the world.\\n\\nAs the worst-affected region in the world, Europe is currently reporting a million new infections about every four days and has reported nearly 30 million since the pandemic began. Britain on Tuesday reached 100,000 deaths.\\n\\nThe Eastern European region, including countries like Russia, Poland and Ukraine, contribute to nearly 10% of all global COVID-19 cases.\\n\\nDespite securing deals for vaccine supplies early on, many European countries are facing delays in shipments from both Pfizer Inc and AstraZeneca Plc\\n\\nASIA AND AFRICA\\n\\nIn India, the nation with the second-highest number of cases, infections are decreasing, with almost 13,700 new infections reported on average each day - around 15% of its peak. Prime Minister Narendra Modi said on Friday India was completely self-reliant on coronavirus vaccine supplies as the world’s second-most populous country inoculated more than 1 million people within a week of starting its campaign.\\n\\nChina, which recently marked the first anniversary of the world’s first coronavirus lockdown in the central city of Wuhan, is facing its worst wave of local cases since March last year.\\n\\nAs richer nations race ahead with mass vaccination campaigns, Africa is still scrambling to secure supplies as it grapples with concerns about more-infectious variants of the virus first identified in South Africa and Britain.\\n\\nAccording to the Reuters tally, African countries have nearly 3.5 million cases and over 85,000 deaths.\\n\\nThe South African variant, also known as 501Y.V2, is 50% more infectious and has been detected in at least 20 countries.\\n\\nU.S. President Joe Biden will impose a ban on most non-U.S. citizens entering the country who have recently been in South Africa starting Saturday in a bid to contain the spread of a new variant of COVID-19.\\n\\nAustralia and New Zealand have fared better than most other developed economies during the pandemic through swift border closures, lockdowns, strict hotel quarantine for travellers and widespread testing and social distancing.\\n\\n“We have the virus under control here in Australia, but we want to roll out the vaccine,” Australian Treasurer Josh Frydenberg told a news conference on Sunday.'"
      ]
     },
     "metadata": {},
     "execution_count": 9
    }
   ],
   "source": [
    "article.text"
   ]
  },
  {
   "cell_type": "code",
   "execution_count": 11,
   "metadata": {},
   "outputs": [
    {
     "output_type": "execute_result",
     "data": {
      "text/plain": [
       "'Global COVID-19 cases surpass 100 million as nations tackle vaccine shortages'"
      ]
     },
     "metadata": {},
     "execution_count": 11
    }
   ],
   "source": [
    "article.title"
   ]
  },
  {
   "cell_type": "code",
   "execution_count": null,
   "metadata": {},
   "outputs": [],
   "source": []
  }
 ]
}